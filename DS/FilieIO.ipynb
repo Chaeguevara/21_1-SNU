{
 "metadata": {
  "language_info": {
   "codemirror_mode": {
    "name": "ipython",
    "version": 3
   },
   "file_extension": ".py",
   "mimetype": "text/x-python",
   "name": "python",
   "nbconvert_exporter": "python",
   "pygments_lexer": "ipython3",
   "version": "3.8.5-final"
  },
  "orig_nbformat": 2,
  "kernelspec": {
   "name": "python3",
   "display_name": "Python 3",
   "language": "python"
  }
 },
 "nbformat": 4,
 "nbformat_minor": 2,
 "cells": [
  {
   "cell_type": "code",
   "execution_count": 31,
   "metadata": {},
   "outputs": [
    {
     "output_type": "error",
     "ename": "FileNotFoundError",
     "evalue": "[Errno 2] No such file or directory: './practice/hi.txt'",
     "traceback": [
      "\u001b[0;31m---------------------------------------------------------------------------\u001b[0m",
      "\u001b[0;31mFileNotFoundError\u001b[0m                         Traceback (most recent call last)",
      "\u001b[0;32m<ipython-input-31-1a8b6ed9d1c6>\u001b[0m in \u001b[0;36m<module>\u001b[0;34m\u001b[0m\n\u001b[0;32m----> 1\u001b[0;31m \u001b[0mfile\u001b[0m \u001b[0;34m=\u001b[0m \u001b[0mopen\u001b[0m\u001b[0;34m(\u001b[0m\u001b[0;34m'./practice/hi.txt'\u001b[0m\u001b[0;34m,\u001b[0m\u001b[0;34m'r'\u001b[0m\u001b[0;34m)\u001b[0m\u001b[0;34m\u001b[0m\u001b[0;34m\u001b[0m\u001b[0m\n\u001b[0m\u001b[1;32m      2\u001b[0m \u001b[0mcontetns\u001b[0m \u001b[0;34m=\u001b[0m \u001b[0mfile\u001b[0m\u001b[0;34m.\u001b[0m\u001b[0mread\u001b[0m\u001b[0;34m(\u001b[0m\u001b[0;34m)\u001b[0m\u001b[0;34m\u001b[0m\u001b[0;34m\u001b[0m\u001b[0m\n\u001b[1;32m      3\u001b[0m \u001b[0mfile\u001b[0m\u001b[0;34m.\u001b[0m\u001b[0mclose\u001b[0m\u001b[0;34m(\u001b[0m\u001b[0;34m)\u001b[0m\u001b[0;34m\u001b[0m\u001b[0;34m\u001b[0m\u001b[0m\n\u001b[1;32m      4\u001b[0m \u001b[0mprint\u001b[0m\u001b[0;34m(\u001b[0m\u001b[0mcontetns\u001b[0m\u001b[0;34m)\u001b[0m\u001b[0;34m\u001b[0m\u001b[0;34m\u001b[0m\u001b[0m\n",
      "\u001b[0;31mFileNotFoundError\u001b[0m: [Errno 2] No such file or directory: './practice/hi.txt'"
     ]
    }
   ],
   "source": [
    "file = open('./practice/hi.txt','r')\n",
    "contetns = file.read()\n",
    "file.close()\n",
    "print(contetns)"
   ]
  },
  {
   "cell_type": "code",
   "execution_count": 22,
   "metadata": {},
   "outputs": [],
   "source": [
    "import os\n",
    "os.getcwd()\n",
    "os.chdir('/home/heejinchae/Programming/21-snu')"
   ]
  },
  {
   "cell_type": "code",
   "execution_count": 23,
   "metadata": {},
   "outputs": [
    {
     "output_type": "stream",
     "name": "stdout",
     "text": [
      "First line of text\nSecond line of text\nThird line of text\n"
     ]
    }
   ],
   "source": [
    "with open('DS/practice/hi.txt','r') as file:\n",
    "    contents = file.read()\n",
    "print(contents)"
   ]
  },
  {
   "cell_type": "code",
   "execution_count": 24,
   "metadata": {},
   "outputs": [
    {
     "output_type": "execute_result",
     "data": {
      "text/plain": [
       "'/home/heejinchae/Programming/21-snu/DS/practice'"
      ]
     },
     "metadata": {},
     "execution_count": 24
    }
   ],
   "source": [
    "os.chdir('DS/practice')\n",
    "os.getcwd()"
   ]
  },
  {
   "cell_type": "code",
   "execution_count": 25,
   "metadata": {},
   "outputs": [
    {
     "output_type": "execute_result",
     "data": {
      "text/plain": [
       "['First line of text\\n', 'Second line of text\\n', 'Third line of text']"
      ]
     },
     "metadata": {},
     "execution_count": 25
    }
   ],
   "source": [
    "with open('hi.txt','r') as file:\n",
    "    contents = file.readlines()\n",
    "contents"
   ]
  },
  {
   "cell_type": "code",
   "execution_count": 26,
   "metadata": {},
   "outputs": [
    {
     "output_type": "execute_result",
     "data": {
      "text/plain": [
       "'First line of text\\n'"
      ]
     },
     "metadata": {},
     "execution_count": 26
    }
   ],
   "source": [
    "with open('hi.txt','r') as file:\n",
    "    contents = file.readline()\n",
    "contents"
   ]
  },
  {
   "cell_type": "code",
   "execution_count": 27,
   "metadata": {},
   "outputs": [
    {
     "output_type": "stream",
     "name": "stdout",
     "text": [
      "First line of text\n\nSecond line of text\n\nThird line of text\n"
     ]
    }
   ],
   "source": [
    "with open('hi.txt','r') as file:\n",
    "    for line in file:\n",
    "        print(line)\n"
   ]
  },
  {
   "cell_type": "code",
   "execution_count": 35,
   "metadata": {},
   "outputs": [
    {
     "output_type": "stream",
     "name": "stdout",
     "text": [
      "Coloured fox fur production, HOPEDALE, Labrador,, 1834-1925\n#Source: C. Elton (1942) \"Voles, Mice and Lemmings\", Oxford Univ. Press\n#Table 17, p.265--266\n22\n29\n2\n16\n12\n35\n8\n83\n166\n62\n77\n42\n54\n56\n5\n9\n78\n151\n27\n14\n71\n261\n22\n3\n16\n70\n7\n2\n26\n27\n35\n9\n11\n73\n39\n22\n41\n31\n60\n7\n28\n43\n17\n26\n35\n60\n75\n18\n58\n38\n28\n26\n29\n43\n16\n40\n25\n28\n12\n22\n13\n52\n90\n103\n15\n26\n29\n102\n31\n9\n33\n90\n95\n17\n35\n59\n115\n12\n26\n38\n202\n25\n83\n92\n58\n0\n19\n63\n108\n25\n38\n231\n"
     ]
    }
   ],
   "source": [
    "import urllib.request\n",
    "url = \"https://robjhyndman.com/tsdldata/ecology1/hopedale.dat\"\n",
    "with urllib.request.urlopen(url) as file:\n",
    "    for line in file:\n",
    "        line = line.strip()\n",
    "        line = line.decode(\"utf-8\")\n",
    "        print(line)"
   ]
  },
  {
   "cell_type": "code",
   "execution_count": null,
   "metadata": {},
   "outputs": [],
   "source": []
  }
 ]
}