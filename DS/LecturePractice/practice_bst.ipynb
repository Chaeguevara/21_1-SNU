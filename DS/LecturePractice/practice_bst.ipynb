{
 "cells": [
  {
   "cell_type": "code",
   "execution_count": 3,
   "id": "grand-rotation",
   "metadata": {},
   "outputs": [],
   "source": [
    "class TreeNode():\n",
    "    def __init__(self, x: int) -> None:\n",
    "        self.val = x\n",
    "        self.left = None\n",
    "        self.right = None\n",
    "\n",
    "class BST():\n",
    "    def __init__(self, root: TreeNode) -> None:\n",
    "        self.root = root\n",
    "    \n",
    "    def __searchHelp(self, curNode: TreeNode, x: int) -> TreeNode:\n",
    "        if curNode == None:\n",
    "            return curNode\n",
    "        if x == curNode.val:\n",
    "            return curNode\n",
    "        if x < curNode.val:\n",
    "            return self.__searchHelp(curNode.left, x)\n",
    "        else:\n",
    "            return self.__searchHelp(curNode.right, x)\n",
    "    \n",
    "    def search(self, x: int) -> TreeNode:\n",
    "        return self.__searchHelp(self.root, x)\n",
    "    \n",
    "    def __insertHelp(self, curNode: TreeNode, x: int) -> TreeNode:\n",
    "        if curNode == None:\n",
    "            return TreeNode(x)\n",
    "        if x < curNode.val:\n",
    "            curNode.left = self.__insertHelp(curNode.left, x)\n",
    "        else:\n",
    "            curNode.right = self.__insertHelp(curNode.right, x)\n",
    "        return curNode\n",
    "    \n",
    "    def insert(self, x: int) -> None:\n",
    "        self.root = self.__insertHelp(self.root, x)\n",
    "    def __findMax(self, curNode:TreeNode)-> int:\n",
    "        #base case\n",
    "        if not curNode.right:\n",
    "            return curNode.val\n",
    "        #recursive case\n",
    "        else:\n",
    "            return self.__findMax(curNode.right)\n",
    "\n",
    "\n",
    "    def __deleteHelp(self, curNode: TreeNode, x:int)->TreeNode:\n",
    "        #find x\n",
    "        #base case -> not x in this node\n",
    "        if not curNode:\n",
    "            return None\n",
    "        \n",
    "        if x < curNode.val:\n",
    "            curNode.left = self.__deleteHelp(curNode.left, x)\n",
    "        elif x > curNode.val:\n",
    "            curNode.right = self.__deleteHelp(curNode.right,x)\n",
    "\n",
    "        else: # x == curNode.val. Need to delete this\n",
    "            # delete itself\n",
    "            if curNode.left == None and curNode.right == None:\n",
    "                return None\n",
    "            elif curNode.left == None and curNode.right:\n",
    "                # adopt the right\n",
    "                return curNode.right\n",
    "            elif curNode.left and curNode.right == None:\n",
    "                return curNode.left\n",
    "            #two child\n",
    "            else:\n",
    "                leftLargest = self.__findMax(curNode.left)\n",
    "                curNode.left = self.__deleteHelp(curNode.left,leftLargest)\n",
    "                curNode.val = leftLargest\n",
    "                     \n",
    "\n",
    "        return curNode\n",
    "\n",
    "        \n",
    "        \n",
    "    def delete(self, x: int) -> None:\n",
    "        self.root = self.__deleteHelp(self.root,x)\n",
    "        # case2 : Node == root\n",
    "\n",
    "        # case3 : Node == leaf\n",
    "\n",
    "        # case4 : Node == middle\n",
    "\n",
    "\n",
    "\n",
    "        return"
   ]
  },
  {
   "cell_type": "code",
   "execution_count": 5,
   "id": "provincial-devil",
   "metadata": {},
   "outputs": [],
   "source": [
    "tree1 = TreeNode(1)\n",
    "tree2 = TreeNode(2)\n",
    "tree3 = TreeNode(3)\n",
    "tree4 = TreeNode(4)\n",
    "tree5 = TreeNode(5)\n",
    "tree6 = TreeNode(6)\n",
    "tree7 = TreeNode(7)\n",
    "\n",
    "tree4.left  = tree2\n",
    "tree4.right = tree6\n",
    "\n",
    "tree2.left  = tree1\n",
    "tree2.right = tree3\n",
    "\n",
    "tree6.left  = tree5\n",
    "tree6.right = tree7"
   ]
  },
  {
   "cell_type": "code",
   "execution_count": 8,
   "id": "developing-hearing",
   "metadata": {},
   "outputs": [
    {
     "name": "stdout",
     "output_type": "stream",
     "text": [
      "7\n"
     ]
    }
   ],
   "source": [
    "myTree = BST(tree4)\n",
    "ans = myTree.search(7)\n",
    "if ans:\n",
    "    print(ans.val)\n",
    "else:\n",
    "    print(None)\n",
    "myTree.delete(4)"
   ]
  },
  {
   "cell_type": "code",
   "execution_count": 11,
   "id": "colored-animal",
   "metadata": {},
   "outputs": [
    {
     "data": {
      "text/plain": [
       "3"
      ]
     },
     "execution_count": 11,
     "metadata": {},
     "output_type": "execute_result"
    }
   ],
   "source": [
    "myTree.root.val"
   ]
  }
 ],
 "metadata": {
  "kernelspec": {
   "display_name": "Python 3",
   "language": "python",
   "name": "python3"
  },
  "language_info": {
   "codemirror_mode": {
    "name": "ipython",
    "version": 3
   },
   "file_extension": ".py",
   "mimetype": "text/x-python",
   "name": "python",
   "nbconvert_exporter": "python",
   "pygments_lexer": "ipython3",
   "version": "3.8.8"
  }
 },
 "nbformat": 4,
 "nbformat_minor": 5
}