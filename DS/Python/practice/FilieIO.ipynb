{
 "metadata": {
  "language_info": {
   "codemirror_mode": {
    "name": "ipython",
    "version": 3
   },
   "file_extension": ".py",
   "mimetype": "text/x-python",
   "name": "python",
   "nbconvert_exporter": "python",
   "pygments_lexer": "ipython3",
   "version": "3.8.5-final"
  },
  "orig_nbformat": 2,
  "kernelspec": {
   "name": "python3",
   "display_name": "Python 3",
   "language": "python"
  }
 },
 "nbformat": 4,
 "nbformat_minor": 2,
 "cells": [
  {
   "cell_type": "code",
   "execution_count": 10,
   "metadata": {},
   "outputs": [
    {
     "output_type": "stream",
     "name": "stdout",
     "text": [
      "First line of text\nSecond line of text\nThird line of text\n"
     ]
    }
   ],
   "source": [
    "file = open('hi.txt','r')\n",
    "contetns = file.read()\n",
    "file.close()\n",
    "print(contetns)"
   ]
  },
  {
   "cell_type": "code",
   "execution_count": 11,
   "metadata": {},
   "outputs": [
    {
     "output_type": "stream",
     "name": "stdout",
     "text": [
      "First line of text\nSecond line of text\nThird line of text\n"
     ]
    }
   ],
   "source": [
    "with open('hi.txt','r') as file:\n",
    "    contetns = file.read()\n",
    "print(contetns)"
   ]
  },
  {
   "cell_type": "code",
   "execution_count": 18,
   "metadata": {
    "tags": []
   },
   "outputs": [
    {
     "output_type": "stream",
     "name": "stdout",
     "text": [
      "Jaewook 2021-2222 A+\n"
     ]
    }
   ],
   "source": [
    "from typing import TextIO\n",
    "\n",
    "def skip_header(input_file: TextIO) -> None:\n",
    "    line = input_file.readline()\n",
    "    while line.startswith(\"#\"):\n",
    "        line = input_file.readline()\n",
    "\n",
    "def process_file(input_file: TextIO) -> None:\n",
    "    skip_header(input_file)\n",
    "    #Do something useful\n",
    "    contents = input_file.read()\n",
    "    print(contents)\n",
    "\n",
    "with open(\"file_example2.txt\",'r') as students:\n",
    "    process_file(students)"
   ]
  },
  {
   "cell_type": "code",
   "execution_count": 22,
   "metadata": {},
   "outputs": [
    {
     "output_type": "stream",
     "name": "stdout",
     "text": [
      "Jaewook 2021-2222 A+\n"
     ]
    }
   ],
   "source": [
    "def skip_header(input_file: TextIO) -> str:\n",
    "    line = input_file.readline()\n",
    "    while line.startswith(\"#\"):\n",
    "        line = input_file.readline()\n",
    "    return line\n",
    "\n",
    "def process_file(input_file: TextIO) -> None:\n",
    "    skip_header(input_file)\n",
    "    #Do something useful\n",
    "    contents = input_file.read()\n",
    "    print(contents)\n",
    "\n",
    "with open(\"file_example2.txt\",'r') as students:\n",
    "    process_file(students)"
   ]
  },
  {
   "cell_type": "code",
   "execution_count": 20,
   "metadata": {},
   "outputs": [],
   "source": [
    "with open(\"output.txt\",'w') as output_file:\n",
    "    output_file.write('cccccc')"
   ]
  },
  {
   "cell_type": "code",
   "execution_count": 21,
   "metadata": {},
   "outputs": [],
   "source": [
    "with open(\"output.txt\",'a') as output_file:\n",
    "    output_file.write('\\nComputing\\nWow')"
   ]
  },
  {
   "cell_type": "code",
   "execution_count": 25,
   "metadata": {},
   "outputs": [],
   "source": [
    "with open(\"file_example2.txt\", 'r') as input_file, open(\"output.txt\",'w') as output_file:\n",
    "   contents = input_file.read()\n",
    "   output_file.write(contents)"
   ]
  },
  {
   "cell_type": "code",
   "execution_count": 26,
   "metadata": {},
   "outputs": [],
   "source": [
    "with open(\"file_example2.txt\", 'r') as input_file, open(\"output.txt\",'w') as output_file:\n",
    "   pass"
   ]
  },
  {
   "cell_type": "code",
   "execution_count": null,
   "metadata": {},
   "outputs": [],
   "source": []
  }
 ]
}