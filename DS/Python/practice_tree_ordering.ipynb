{
 "cells": [
  {
   "cell_type": "markdown",
   "id": "quick-repair",
   "metadata": {},
   "source": [
    "# TreeNode definition"
   ]
  },
  {
   "cell_type": "code",
   "execution_count": 25,
   "id": "communist-blink",
   "metadata": {},
   "outputs": [],
   "source": [
    "class TreeNode():\n",
    "    def __init__(self, s: str, k: int):\n",
    "        self.name = s\n",
    "        self.ary = k\n",
    "        self.child = [None]*k"
   ]
  },
  {
   "cell_type": "markdown",
   "id": "southern-tennis",
   "metadata": {},
   "source": [
    "# Tree construction"
   ]
  },
  {
   "cell_type": "code",
   "execution_count": 26,
   "id": "ahead-defendant",
   "metadata": {},
   "outputs": [],
   "source": [
    "t_root = TreeNode(\"/\", 10)\n",
    "t_root.child[0] = TreeNode(\"conda\",10)\n",
    "t_root.child[1] = TreeNode(\"idlerc\",10)\n",
    "t_root.child[2] = TreeNode(\"ipynb_checkpoints\",10)\n",
    "t_root.child[3] = TreeNode(\"ipython\",10)\n",
    "t_root.child[4] = TreeNode(\"jupyter\",10)\n",
    "t_root.child[5] = TreeNode(\"VirtualBox\",10)\n",
    "t_root.child[6] = TreeNode(\"3D Objects\",10)\n",
    "t_root.child[7] = TreeNode(\"anaconda3\",10)\n",
    "\n",
    "t_ipython = t_root.child[3]\n",
    "t_ipython.child[0] = TreeNode(\"extensions\",10)\n",
    "t_ipython.child[1] = TreeNode(\"nbextensions\",10)\n",
    "t_ipython.child[2] = TreeNode(\"profile_default\",10)\n",
    "t_default = t_ipython.child[2]\n",
    "t_default.child[0] = TreeNode(\"db\",10)\n",
    "t_default.child[1] = TreeNode(\"log\",10)\n",
    "t_default.child[2] = TreeNode(\"pid\",10)\n",
    "t_default.child[3] = TreeNode(\"security\",10)\n",
    "t_default.child[4] = TreeNode(\"startup\",10)\n",
    "\n",
    "t_jupyter = t_root.child[4]\n",
    "t_jupyter.child[0] = TreeNode(\"lab\",10)\n",
    "t_jupyter.child[1] = TreeNode(\"nbconfig\",10)\n",
    "t_jupyter.child[0].child[0] = TreeNode(\"workspace\",10)\n",
    "\n",
    "t_ana = t_root.child[7]\n",
    "t_ana.child[0] = TreeNode(\"bin\",10)\n",
    "t_ana.child[1] = TreeNode(\"conda-meta\",10)\n",
    "t_ana.child[2] = TreeNode(\"condabin\",10)\n",
    "t_ana.child[3] = TreeNode(\"DLLs\",10)\n",
    "t_ana.child[4] = TreeNode(\"etc\",10)\n",
    "t_etc = t_ana.child[4]\n",
    "t_etc.child[0] = TreeNode(\"fish\",10)\n",
    "t_etc.child[0].child[0] = TreeNode(\"conf.d\",10)\n",
    "t_etc.child[1] = TreeNode(\"jupyter\",10)\n",
    "t_etc.child[1].child[0] = TreeNode(\"jupyter_notebook_config.d\",10)\n",
    "t_etc.child[1].child[1] = TreeNode(\"nbconfig\",10)\n",
    "t_etc.child[1].child[1].child[0] = TreeNode(\"notebook.d\",10)\n",
    "t_etc.child[2] = TreeNode(\"profile.d\",10)"
   ]
  },
  {
   "cell_type": "markdown",
   "id": "beautiful-allergy",
   "metadata": {},
   "source": [
    "# Your code for practice (recursive implementation)"
   ]
  },
  {
   "cell_type": "code",
   "execution_count": 35,
   "id": "hairy-unknown",
   "metadata": {},
   "outputs": [],
   "source": [
    "class Tree():\n",
    "    def __init__(self, root: TreeNode) -> None:\n",
    "        self.root = root\n",
    "    \n",
    "    def visit(self,node):\n",
    "        print(node.name,node.ary)\n",
    "        \n",
    "    def __DFT_preorderHelp(self,curNode):\n",
    "        if curNode == None:\n",
    "            return\n",
    "        for i in range(len(curNode.child)):\n",
    "            self.__DFT_preorderHelp(curNode.child[i])\n",
    "        self.visit(curNode)\n",
    "        \n",
    "    def DFT_preorder(self):\n",
    "        self.__DFT_preorderHelp(self.root)"
   ]
  },
  {
   "cell_type": "markdown",
   "id": "running-franchise",
   "metadata": {},
   "source": [
    "# Output"
   ]
  },
  {
   "cell_type": "code",
   "execution_count": 36,
   "id": "dominant-sucking",
   "metadata": {},
   "outputs": [
    {
     "output_type": "stream",
     "name": "stdout",
     "text": [
      "conda 10\nidlerc 10\nipynb_checkpoints 10\nextensions 10\nnbextensions 10\ndb 10\nlog 10\npid 10\nsecurity 10\nstartup 10\nprofile_default 10\nipython 10\nworkspace 10\nlab 10\nnbconfig 10\njupyter 10\nVirtualBox 10\n3D Objects 10\nbin 10\nconda-meta 10\ncondabin 10\nDLLs 10\nconf.d 10\nfish 10\njupyter_notebook_config.d 10\nnotebook.d 10\nnbconfig 10\njupyter 10\nprofile.d 10\netc 10\nanaconda3 10\n/ 10\n"
     ]
    }
   ],
   "source": [
    "# Create a tree\n",
    "myTree = Tree(t_root)\n",
    "\n",
    "# Execute preorder DFT\n",
    "myTree.DFT_preorder()"
   ]
  },
  {
   "cell_type": "code",
   "execution_count": null,
   "metadata": {},
   "outputs": [],
   "source": []
  }
 ],
 "metadata": {
  "kernelspec": {
   "name": "python385jvsc74a57bd0422fafc39feb8a7061ac9eda22873f4ef32bb6c1836b6bf2d1cb5e91545a9218",
   "display_name": "Python 3.8.5 64-bit ('base': conda)"
  },
  "language_info": {
   "codemirror_mode": {
    "name": "ipython",
    "version": 3
   },
   "file_extension": ".py",
   "mimetype": "text/x-python",
   "name": "python",
   "nbconvert_exporter": "python",
   "pygments_lexer": "ipython3",
   "version": "3.8.5"
  },
  "metadata": {
   "interpreter": {
    "hash": "422fafc39feb8a7061ac9eda22873f4ef32bb6c1836b6bf2d1cb5e91545a9218"
   }
  }
 },
 "nbformat": 4,
 "nbformat_minor": 5
}