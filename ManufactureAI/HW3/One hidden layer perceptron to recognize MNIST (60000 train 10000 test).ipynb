{
 "cells": [
  {
   "cell_type": "code",
   "execution_count": 1,
   "metadata": {},
   "outputs": [],
   "source": [
    "#\n",
    "# Created July 17, 2018\n",
    "# Copyright S.W. Kim\n",
    "#\n",
    "import numpy as np\n",
    "import matplotlib.pyplot\n",
    "\n",
    "class Perceptron:\n",
    "    def __init__(self, input_dim, hidden_dim, output_dim, lr=0.01):\n",
    "        self.w1 =  np.random.normal(0.0, pow(input_dim, -0.5), (input_dim, hidden_dim))\n",
    "        self.w2 =  np.random.normal(0.0, pow(hidden_dim, -0.5), (hidden_dim, output_dim))\n",
    "        self.h = np.zeros((1,hidden_dim))\n",
    "        self.lr = lr\n",
    "        self.input_dim = input_dim\n",
    "        self.hidden_dim = hidden_dim\n",
    "        self.output_dim = output_dim        \n",
    "        self.theta = 0\n",
    "\n",
    "    def softmax(self, x):\n",
    "        e_x = np.exp(x - np.max(x))\n",
    "        return e_x / e_x.sum(axis=0) # only difference\n",
    "        \n",
    "    def sigmoid(self, x):\n",
    "        return 1/(1+np.exp(-x))\n",
    "\n",
    "    def feedforward(self, x):\n",
    "        a = x.astype(float)\n",
    "        b = self.w1.astype(float)\n",
    "        self.h = self.sigmoid(np.dot(a, b)- self.theta)\n",
    "        return self.sigmoid(np.dot(self.h, self.w2)- self.theta)\n",
    "\n",
    "    def feedforward_upto_hidden(self, x):\n",
    "        return self.sigmoid(np.dot(x, self.w1)- self.theta)\n",
    "\n",
    "    def bprop_w2(self, g, y): # target, output\n",
    "        q = (-2)*(g-y)*y*(1-y)\n",
    "        return np.dot(self.h.reshape(self.hidden_dim,1), q.reshape(1,self.output_dim))\n",
    "\n",
    "    def bprop_w1(self, g, y, x): # target, output, input\n",
    "        q1 = (-2)*(g-y)*y*(1-y)\n",
    "        q2 = np.dot(self.w2, q1)\n",
    "        return np.dot(x.reshape(self.input_dim, 1), q2*self.h*(1-self.h).reshape(1,self.hidden_dim))\n",
    "    \n",
    "    def training(self, input, target):\n",
    "        x = np.array(input).T\n",
    "        y = self.feedforward(x)\n",
    "        g = np.array(target).T\n",
    "            \n",
    "        self.w1 = self.w1 - self.lr*self.bprop_w1(g, y, x)\n",
    "        self.w2 = self.w2 - self.lr*self.bprop_w2(g, y)"
   ]
  },
  {
   "cell_type": "code",
   "execution_count": 2,
   "metadata": {},
   "outputs": [],
   "source": [
    "# Training\n",
    "input_dim = 784\n",
    "hidden_dim = 100\n",
    "output_dim = 10\n",
    "epoch = 10\n",
    "\n",
    "pct = Perceptron(784,100,10,lr=0.1)\n",
    "\n",
    "training_dataset_file = open(\"mnist_train.csv\", 'r')\n",
    "\n",
    "training_dataset_list = training_dataset_file.readlines()\n",
    "training_dataset_file.close()\n",
    "#input_list = list()\n",
    "\n",
    "for k in range(epoch):\n",
    "    pct.lr = pct.lr * 0.8  # learning lrate decay\n",
    "    for i in training_dataset_list:\n",
    "        all_values = i.split(',')\n",
    "        inputs = (np.asfarray(all_values[1:])/255.0*0.99)+0.01\n",
    "        #input_list.append(inputs)\n",
    "        \n",
    "        targets = np.zeros(output_dim) + 0.01\n",
    "        targets[int(all_values[0])] = 0.99\n",
    "        \n",
    "        pct.training(inputs, targets)"
   ]
  },
  {
   "cell_type": "code",
   "execution_count": 3,
   "metadata": {},
   "outputs": [],
   "source": [
    "# Test\n",
    "test_dataset_file = open(\"mnist_test.csv\", 'r')\n",
    "\n",
    "test_dataset_list = test_dataset_file.readlines()\n",
    "test_dataset_file.close()\n",
    "#output_list = list()"
   ]
  },
  {
   "cell_type": "code",
   "execution_count": 4,
   "metadata": {},
   "outputs": [
    {
     "name": "stdout",
     "output_type": "stream",
     "text": [
      "7\n"
     ]
    },
    {
     "name": "stderr",
     "output_type": "stream",
     "text": [
      "<ipython-input-1-be7cb67ec543>:24: RuntimeWarning: overflow encountered in exp\n",
      "  return 1/(1+np.exp(-x))\n"
     ]
    },
    {
     "data": {
      "text/plain": [
       "array([4.19960619e-04, 1.07138054e-06, 2.86576702e-03, 2.25334837e-04,\n",
       "       8.82175779e-06, 1.29297154e-04, 1.75504713e-07, 9.99899137e-01,\n",
       "       1.52858195e-05, 6.86538163e-04])"
      ]
     },
     "execution_count": 4,
     "metadata": {},
     "output_type": "execute_result"
    }
   ],
   "source": [
    "all_values = test_dataset_list[0].split(',')\n",
    "print(all_values[0])\n",
    "pct.feedforward(np.asfarray(all_values[1:]))"
   ]
  },
  {
   "cell_type": "code",
   "execution_count": 5,
   "metadata": {
    "scrolled": true
   },
   "outputs": [
    {
     "name": "stdout",
     "output_type": "stream",
     "text": [
      "Prediction fails. (target, predcition) =  5 6\n",
      "Prediction =  [1.22774626e-03 2.75720132e-03 3.64510875e-02 1.95334643e-02\n",
      " 1.75581400e-05 1.40503398e-02 2.68699750e-01 2.49700921e-04\n",
      " 4.13354739e-03 2.66704526e-04]\n",
      "Reconition error rate =  0.0253\n"
     ]
    },
    {
     "data": {
      "image/png": "[encoded data removed]",
      "text/plain": [
       "<Figure size 432x288 with 1 Axes>"
      ]
     },
     "metadata": {
      "needs_background": "light"
     },
     "output_type": "display_data"
    }
   ],
   "source": [
    "# Test error rate\n",
    "success = 0\n",
    "failure = 0\n",
    "\n",
    "for i in test_dataset_list:\n",
    "    all_values = i.split(',')\n",
    "    target = int(all_values[0])\n",
    "    \n",
    "    all_values_normalized = (np.asfarray(all_values[1:])/255.0*0.99)+0.01\n",
    "    prediction_list = pct.feedforward(np.asfarray(all_values_normalized))\n",
    "    prediction = np.argmax(prediction_list)\n",
    "    \n",
    "    if target == prediction:\n",
    "        success = success + 1\n",
    "    else:\n",
    "        failure = failure + 1\n",
    "        \n",
    "        a = target\n",
    "        b = prediction\n",
    "        c = prediction_list\n",
    "        d = all_values_normalized\n",
    "\n",
    "print(\"Prediction fails. (target, predcition) = \", a, b)\n",
    "print(\"Prediction = \", c)\n",
    "\n",
    "im_array = np.asfarray(d).reshape((28,28))\n",
    "matplotlib.pyplot.imshow(im_array, cmap='Greys', interpolation='None')\n",
    "        \n",
    "print(\"Reconition error rate = \", (failure/(success+failure)))"
   ]
  },
  {
   "cell_type": "code",
   "execution_count": null,
   "metadata": {},
   "outputs": [],
   "source": []
  }
 ],
 "metadata": {
  "kernelspec": {
   "display_name": "Python 3",
   "language": "python",
   "name": "python3"
  },
  "language_info": {
   "codemirror_mode": {
    "name": "ipython",
    "version": 3
   },
   "file_extension": ".py",
   "mimetype": "text/x-python",
   "name": "python",
   "nbconvert_exporter": "python",
   "pygments_lexer": "ipython3",
   "version": "3.8.5"
  }
 },
 "nbformat": 4,
 "nbformat_minor": 2
}
